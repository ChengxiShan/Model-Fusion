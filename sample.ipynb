{
 "cells": [
  {
   "cell_type": "code",
   "execution_count": 1,
   "id": "9a77b956",
   "metadata": {},
   "outputs": [],
   "source": [
    "import pandas as pd\n",
    "import numpy as np\n",
    "import matplotlib.pyplot as plt"
   ]
  },
  {
   "cell_type": "code",
   "execution_count": 2,
   "id": "b7b7f792",
   "metadata": {},
   "outputs": [],
   "source": [
    "import LinearFusion as lf\n",
    "import BackTest as bt"
   ]
  },
  {
   "cell_type": "markdown",
   "id": "85e92e12",
   "metadata": {},
   "source": [
    "# import data"
   ]
  },
  {
   "cell_type": "code",
   "execution_count": 3,
   "id": "fcadc07d",
   "metadata": {},
   "outputs": [],
   "source": [
    "#load date \n",
    "#i identifies period, j identifies model\n",
    "\n",
    "#train data\n",
    "model_train_res=[]\n",
    "for i in range(4):\n",
    "    cur_model_res=[]\n",
    "    for j in range(4):\n",
    "        cur_model_res.append(pd.read_pickle('data/model'+str(j+1)+'/period'+str(i+1)+'/training_return_series.pkl'))\n",
    "    model_train_res.append(cur_model_res)"
   ]
  },
  {
   "cell_type": "code",
   "execution_count": 4,
   "id": "76b9025e",
   "metadata": {},
   "outputs": [],
   "source": [
    "#test data\n",
    "model_test_res=[]\n",
    "for i in range(4):\n",
    "    cur_test_res=[]\n",
    "    for j in range(4):\n",
    "        cur_test_res.append(pd.read_pickle('data/model'+str(j+1)+'/period'+str(i+1)+'/expected_return_series.pkl'))\n",
    "    model_test_res.append(cur_test_res)"
   ]
  },
  {
   "cell_type": "code",
   "execution_count": 5,
   "id": "244e6da1",
   "metadata": {},
   "outputs": [],
   "source": [
    "#model's y label\n",
    "true_return=pd.read_pickle('data/true_return.pkl')"
   ]
  },
  {
   "cell_type": "code",
   "execution_count": 6,
   "id": "3347d6e7",
   "metadata": {},
   "outputs": [],
   "source": [
    "#load daily market data\n",
    "prices=pd.read_csv('data/prices.csv')\n",
    "prices.trade_date=pd.to_datetime(prices.trade_date)\n",
    "prices=prices.set_index(['trade_date','symbol_id'])\n",
    "open=prices.open_price\n",
    "close=prices.close_price"
   ]
  },
  {
   "cell_type": "code",
   "execution_count": 7,
   "id": "bfd720db",
   "metadata": {},
   "outputs": [],
   "source": [
    "train1=model_train_res[0]\n",
    "test1=model_test_res[0]\n",
    "train2=model_train_res[1]\n",
    "test2=model_test_res[1]\n",
    "train3=model_train_res[2]\n",
    "test3=model_test_res[2]\n",
    "train4=model_train_res[3]\n",
    "test4=model_test_res[3]"
   ]
  },
  {
   "cell_type": "markdown",
   "id": "9a36a766",
   "metadata": {},
   "source": [
    "# 模型融合"
   ]
  },
  {
   "cell_type": "code",
   "execution_count": 8,
   "id": "bb5c845c",
   "metadata": {},
   "outputs": [],
   "source": [
    "#创建各period的fusion\n",
    "fusion1=lf.LinearFusion(true_return,train1,test1)\n",
    "fusion2=lf.LinearFusion(true_return,train2,test2)\n",
    "fusion3=lf.LinearFusion(true_return,train3,test3)\n",
    "fusion4=lf.LinearFusion(true_return,train4,test4)"
   ]
  },
  {
   "cell_type": "code",
   "execution_count": 9,
   "id": "45db26bc",
   "metadata": {},
   "outputs": [
    {
     "data": {
      "text/html": [
       "<div>\n",
       "<style scoped>\n",
       "    .dataframe tbody tr th:only-of-type {\n",
       "        vertical-align: middle;\n",
       "    }\n",
       "\n",
       "    .dataframe tbody tr th {\n",
       "        vertical-align: top;\n",
       "    }\n",
       "\n",
       "    .dataframe thead th {\n",
       "        text-align: right;\n",
       "    }\n",
       "</style>\n",
       "<table border=\"1\" class=\"dataframe\">\n",
       "  <thead>\n",
       "    <tr style=\"text-align: right;\">\n",
       "      <th></th>\n",
       "      <th>model1</th>\n",
       "      <th>model2</th>\n",
       "      <th>model3</th>\n",
       "      <th>model4</th>\n",
       "    </tr>\n",
       "  </thead>\n",
       "  <tbody>\n",
       "    <tr>\n",
       "      <th>model1</th>\n",
       "      <td>1.000000</td>\n",
       "      <td>0.927593</td>\n",
       "      <td>0.785826</td>\n",
       "      <td>0.659720</td>\n",
       "    </tr>\n",
       "    <tr>\n",
       "      <th>model2</th>\n",
       "      <td>0.927593</td>\n",
       "      <td>1.000000</td>\n",
       "      <td>0.779460</td>\n",
       "      <td>0.658166</td>\n",
       "    </tr>\n",
       "    <tr>\n",
       "      <th>model3</th>\n",
       "      <td>0.785826</td>\n",
       "      <td>0.779460</td>\n",
       "      <td>1.000000</td>\n",
       "      <td>0.887419</td>\n",
       "    </tr>\n",
       "    <tr>\n",
       "      <th>model4</th>\n",
       "      <td>0.659720</td>\n",
       "      <td>0.658166</td>\n",
       "      <td>0.887419</td>\n",
       "      <td>1.000000</td>\n",
       "    </tr>\n",
       "  </tbody>\n",
       "</table>\n",
       "</div>"
      ],
      "text/plain": [
       "          model1    model2    model3    model4\n",
       "model1  1.000000  0.927593  0.785826  0.659720\n",
       "model2  0.927593  1.000000  0.779460  0.658166\n",
       "model3  0.785826  0.779460  1.000000  0.887419\n",
       "model4  0.659720  0.658166  0.887419  1.000000"
      ]
     },
     "execution_count": 9,
     "metadata": {},
     "output_type": "execute_result"
    }
   ],
   "source": [
    "#看模型相训练集关性，若想看训练集，参数换成‘test’即可\n",
    "fusion1.models_corr('train')"
   ]
  },
  {
   "cell_type": "code",
   "execution_count": 10,
   "id": "fbc9fdd8",
   "metadata": {},
   "outputs": [],
   "source": [
    "#获得四种融合模型的测试集融合输出\n",
    "\n",
    "#period1:\n",
    "na_test_pred1=fusion1.na_test_pred()\n",
    "ew_test_pred1=fusion1.ew_test_pred()\n",
    "ic_test_pred1=fusion1.ic_test_pred()\n",
    "ir_test_pred1=fusion1.ir_test_pred()\n",
    "lss_test_pred1=fusion1.lasso_test_pred()"
   ]
  },
  {
   "cell_type": "code",
   "execution_count": 11,
   "id": "07a0e619",
   "metadata": {},
   "outputs": [],
   "source": [
    "#period2:\n",
    "na_test_pred2=fusion2.na_test_pred()\n",
    "ew_test_pred2=fusion2.ew_test_pred()\n",
    "ic_test_pred2=fusion2.ic_test_pred()\n",
    "ir_test_pred2=fusion2.ir_test_pred()\n",
    "lss_test_pred2=fusion2.lasso_test_pred()"
   ]
  },
  {
   "cell_type": "code",
   "execution_count": 12,
   "id": "3715ca18",
   "metadata": {},
   "outputs": [],
   "source": [
    "#period3:\n",
    "na_test_pred3=fusion3.na_test_pred()\n",
    "ew_test_pred3=fusion3.ew_test_pred()\n",
    "ic_test_pred3=fusion3.ic_test_pred()\n",
    "ir_test_pred3=fusion3.ir_test_pred()\n",
    "lss_test_pred3=fusion3.lasso_test_pred()"
   ]
  },
  {
   "cell_type": "code",
   "execution_count": 13,
   "id": "4e5e491d",
   "metadata": {},
   "outputs": [],
   "source": [
    "#period4:\n",
    "na_test_pred4=fusion4.na_test_pred()\n",
    "ew_test_pred4=fusion4.ew_test_pred()\n",
    "ic_test_pred4=fusion4.ic_test_pred()\n",
    "ir_test_pred4=fusion4.ir_test_pred()\n",
    "lss_test_pred4=fusion4.lasso_test_pred()"
   ]
  },
  {
   "cell_type": "code",
   "execution_count": 14,
   "id": "04a87dfa",
   "metadata": {},
   "outputs": [],
   "source": [
    "#test结果整合\n",
    "na_test=pd.concat([na_test_pred1,na_test_pred2,na_test_pred3,na_test_pred4],axis=0)\n",
    "ew_test=pd.concat([ew_test_pred1,ew_test_pred2,ew_test_pred3,ew_test_pred4],axis=0)\n",
    "ic_test=pd.concat([ic_test_pred1,ic_test_pred2,ic_test_pred3,ic_test_pred4],axis=0)\n",
    "ir_test=pd.concat([ir_test_pred1,ir_test_pred2,ir_test_pred3,ir_test_pred4],axis=0)\n",
    "lss_test=pd.concat([lss_test_pred1,lss_test_pred2,lss_test_pred3,lss_test_pred4],axis=0)"
   ]
  },
  {
   "cell_type": "markdown",
   "id": "16695309",
   "metadata": {},
   "source": [
    "# 回测"
   ]
  },
  {
   "cell_type": "code",
   "execution_count": 20,
   "id": "5c3af1ae",
   "metadata": {},
   "outputs": [],
   "source": [
    "bt_na=bt.BackTest(open,close,na_test)\n",
    "bt_ew=bt.BackTest(open,close,ew_test)\n",
    "bt_ic=bt.BackTest(open,close,ic_test)\n",
    "bt_ir=bt.BackTest(open,close,ir_test)\n",
    "bt_lasso=bt.BackTest(open,close,lss_test)"
   ]
  },
  {
   "cell_type": "code",
   "execution_count": 25,
   "id": "c999a5c1",
   "metadata": {},
   "outputs": [],
   "source": [
    "bt_list=[bt_na,bt_ew,bt_ic,bt_ir,bt_lasso]\n",
    "bt_nm_list=['Naive Average','Error Weighted','IC Weighted','IR Weighted','Lasso Weighted']"
   ]
  },
  {
   "cell_type": "code",
   "execution_count": 26,
   "id": "751235bb",
   "metadata": {},
   "outputs": [
    {
     "data": {
      "image/png": "[encoded data removed]",
      "text/plain": [
       "<Figure size 1152x432 with 1 Axes>"
      ]
     },
     "metadata": {
      "needs_background": "light"
     },
     "output_type": "display_data"
    }
   ],
   "source": [
    "plt.figure(figsize=(16,6))\n",
    "for i,bt in enumerate(bt_list):\n",
    "    cur_pnl=bt.get_cum_rtn()\n",
    "    cur_pnl.name=bt_nm_list[i]\n",
    "    cur_pnl.plot()\n",
    "plt.legend()\n",
    "plt.title('PnL Curve')\n",
    "plt.show()"
   ]
  },
  {
   "cell_type": "code",
   "execution_count": null,
   "id": "62d25fa2",
   "metadata": {},
   "outputs": [],
   "source": []
  }
 ],
 "metadata": {
  "kernelspec": {
   "display_name": "Python 3 (ipykernel)",
   "language": "python",
   "name": "python3"
  },
  "language_info": {
   "codemirror_mode": {
    "name": "ipython",
    "version": 3
   },
   "file_extension": ".py",
   "mimetype": "text/x-python",
   "name": "python",
   "nbconvert_exporter": "python",
   "pygments_lexer": "ipython3",
   "version": "3.8.2"
  }
 },
 "nbformat": 4,
 "nbformat_minor": 5
}
